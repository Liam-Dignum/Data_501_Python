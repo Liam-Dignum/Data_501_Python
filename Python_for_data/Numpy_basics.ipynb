{
 "cells": [
  {
   "cell_type": "markdown",
   "id": "ce71847f-f698-49c9-be8c-6e2e97e73981",
   "metadata": {},
   "source": [
    "## Numpy"
   ]
  },
  {
   "cell_type": "markdown",
   "id": "0d0b7de2-f5be-4a54-ab2c-d9d71d89b681",
   "metadata": {},
   "source": [
    "Numpy is a library which provides support for large, homogeneous mulit-dimensional arrays and matrices"
   ]
  },
  {
   "cell_type": "code",
   "execution_count": 3,
   "id": "c842d45d-04ad-4617-8362-c3ec69a573e2",
   "metadata": {},
   "outputs": [],
   "source": [
    "# import numpy\n",
    "import numpy as np"
   ]
  },
  {
   "cell_type": "markdown",
   "id": "b3bd842e-d4ef-419f-bade-f3b42bd733ef",
   "metadata": {},
   "source": [
    "## Creating Arrays in Numpy\n",
    "\n",
    "### Creating an array from a list"
   ]
  },
  {
   "cell_type": "code",
   "execution_count": 4,
   "id": "d33fc356-0cf1-4297-845c-bdeb395ae1b6",
   "metadata": {},
   "outputs": [
    {
     "data": {
      "text/plain": [
       "[10, 20, 30, 40]"
      ]
     },
     "execution_count": 4,
     "metadata": {},
     "output_type": "execute_result"
    }
   ],
   "source": [
    "list1 = [10,20,30,40]\n",
    "list1"
   ]
  },
  {
   "cell_type": "code",
   "execution_count": 6,
   "id": "a592833c-95be-4eea-88bd-f1f4ff54576b",
   "metadata": {},
   "outputs": [
    {
     "data": {
      "text/plain": [
       "array([10, 20, 30, 40])"
      ]
     },
     "execution_count": 6,
     "metadata": {},
     "output_type": "execute_result"
    }
   ],
   "source": [
    "arr1 = np.array(list1)\n",
    "arr1"
   ]
  },
  {
   "cell_type": "code",
   "execution_count": 7,
   "id": "51823bc1-77f6-4c68-be79-0d8a786e4c3f",
   "metadata": {},
   "outputs": [
    {
     "data": {
      "text/plain": [
       "numpy.ndarray"
      ]
     },
     "execution_count": 7,
     "metadata": {},
     "output_type": "execute_result"
    }
   ],
   "source": [
    "type(arr1)"
   ]
  },
  {
   "cell_type": "markdown",
   "id": "acad75e4-2e95-4c3b-aeba-dd24af3bbd1f",
   "metadata": {},
   "source": [
    "### Using arrange to create an array\n",
    "\n",
    "the difference between array and arrange is that array takes in a list and turns it into an array, whereas arrange creates from a range of numbers"
   ]
  },
  {
   "cell_type": "code",
   "execution_count": 10,
   "id": "1a37516e-cd72-4cc0-ba8a-e4bcba6f6f47",
   "metadata": {},
   "outputs": [
    {
     "data": {
      "text/plain": [
       "array([10, 11, 12, 13, 14, 15, 16, 17, 18, 19])"
      ]
     },
     "execution_count": 10,
     "metadata": {},
     "output_type": "execute_result"
    }
   ],
   "source": [
    "arr2 = np.arange(10,20, 1) # (Start,Stop,Step-size)\n",
    "arr2"
   ]
  },
  {
   "cell_type": "markdown",
   "id": "af257467-ae4d-40b7-831a-3279ac0e1f98",
   "metadata": {},
   "source": [
    "## Multidimensional arrays\n",
    "\n",
    "### Combining two list - Two-dimensional arrays\n",
    "\n",
    "When we combine arrays together, we can add dimension. Combining two arrays gives us a 2D array\n",
    "This creates a matrix for us on which we can perform matrix opperations"
   ]
  },
  {
   "cell_type": "code",
   "execution_count": 14,
   "id": "7cfb2fb8-4a8c-41e4-9d9d-a45b8fa908c2",
   "metadata": {},
   "outputs": [
    {
     "data": {
      "text/plain": [
       "array([[10, 20, 30, 40],\n",
       "       [40, 50, 60, 70]])"
      ]
     },
     "execution_count": 14,
     "metadata": {},
     "output_type": "execute_result"
    }
   ],
   "source": [
    "# combining 2 lists\n",
    "list2 = [40,50,60,70]\n",
    "\n",
    "list3 = [list1,list2]\n",
    "\n",
    "arr3 = np.array(list3)\n",
    "arr3"
   ]
  },
  {
   "cell_type": "code",
   "execution_count": 15,
   "id": "69dbec9a-400b-49aa-bdf2-b6373e3ae197",
   "metadata": {},
   "outputs": [
    {
     "data": {
      "text/plain": [
       "(2, 4)"
      ]
     },
     "execution_count": 15,
     "metadata": {},
     "output_type": "execute_result"
    }
   ],
   "source": [
    "arr3.shape"
   ]
  },
  {
   "cell_type": "markdown",
   "id": "df8ea4aa-7243-436d-8531-dc21531e24a5",
   "metadata": {},
   "source": [
    "## Three-dimensional arrays"
   ]
  },
  {
   "cell_type": "code",
   "execution_count": null,
   "id": "b052d777-2a0a-4257-bb18-dbe98f40b6d0",
   "metadata": {},
   "outputs": [],
   "source": []
  }
 ],
 "metadata": {
  "kernelspec": {
   "display_name": "Python 3 (ipykernel)",
   "language": "python",
   "name": "python3"
  },
  "language_info": {
   "codemirror_mode": {
    "name": "ipython",
    "version": 3
   },
   "file_extension": ".py",
   "mimetype": "text/x-python",
   "name": "python",
   "nbconvert_exporter": "python",
   "pygments_lexer": "ipython3",
   "version": "3.10.6"
  }
 },
 "nbformat": 4,
 "nbformat_minor": 5
}

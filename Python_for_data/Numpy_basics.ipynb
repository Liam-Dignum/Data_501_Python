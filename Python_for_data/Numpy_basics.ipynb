{
 "cells": [
  {
   "cell_type": "markdown",
   "id": "ce71847f-f698-49c9-be8c-6e2e97e73981",
   "metadata": {},
   "source": [
    "## Numpy"
   ]
  },
  {
   "cell_type": "markdown",
   "id": "0d0b7de2-f5be-4a54-ab2c-d9d71d89b681",
   "metadata": {},
   "source": [
    "Numpy is a library which provides support for large, homogeneous mulit-dimensional arrays and matrices"
   ]
  },
  {
   "cell_type": "code",
   "execution_count": 3,
   "id": "c842d45d-04ad-4617-8362-c3ec69a573e2",
   "metadata": {},
   "outputs": [],
   "source": [
    "# import numpy\n",
    "import numpy as np"
   ]
  },
  {
   "cell_type": "markdown",
   "id": "b3bd842e-d4ef-419f-bade-f3b42bd733ef",
   "metadata": {},
   "source": [
    "## Creating Arrays in Numpy\n",
    "\n",
    "### Creating an array from a list"
   ]
  },
  {
   "cell_type": "code",
   "execution_count": 27,
   "id": "d33fc356-0cf1-4297-845c-bdeb395ae1b6",
   "metadata": {},
   "outputs": [
    {
     "data": {
      "text/plain": [
       "[10, 20, 30]"
      ]
     },
     "execution_count": 27,
     "metadata": {},
     "output_type": "execute_result"
    }
   ],
   "source": [
    "list1 = [10,20,30]\n",
    "list1"
   ]
  },
  {
   "cell_type": "code",
   "execution_count": 28,
   "id": "a592833c-95be-4eea-88bd-f1f4ff54576b",
   "metadata": {},
   "outputs": [
    {
     "data": {
      "text/plain": [
       "array([10, 20, 30])"
      ]
     },
     "execution_count": 28,
     "metadata": {},
     "output_type": "execute_result"
    }
   ],
   "source": [
    "arr1 = np.array(list1)\n",
    "arr1"
   ]
  },
  {
   "cell_type": "code",
   "execution_count": 29,
   "id": "51823bc1-77f6-4c68-be79-0d8a786e4c3f",
   "metadata": {},
   "outputs": [
    {
     "data": {
      "text/plain": [
       "numpy.ndarray"
      ]
     },
     "execution_count": 29,
     "metadata": {},
     "output_type": "execute_result"
    }
   ],
   "source": [
    "type(arr1)"
   ]
  },
  {
   "cell_type": "markdown",
   "id": "acad75e4-2e95-4c3b-aeba-dd24af3bbd1f",
   "metadata": {},
   "source": [
    "### Using arrange to create an array\n",
    "\n",
    "the difference between array and arrange is that array takes in a list and turns it into an array, whereas arrange creates from a range of numbers"
   ]
  },
  {
   "cell_type": "code",
   "execution_count": 30,
   "id": "1a37516e-cd72-4cc0-ba8a-e4bcba6f6f47",
   "metadata": {},
   "outputs": [
    {
     "data": {
      "text/plain": [
       "array([10, 11, 12, 13, 14, 15, 16, 17, 18, 19])"
      ]
     },
     "execution_count": 30,
     "metadata": {},
     "output_type": "execute_result"
    }
   ],
   "source": [
    "arr2 = np.arange(10,20, 1) # (Start,Stop,Step-size)\n",
    "arr2"
   ]
  },
  {
   "cell_type": "markdown",
   "id": "af257467-ae4d-40b7-831a-3279ac0e1f98",
   "metadata": {},
   "source": [
    "## Multidimensional arrays\n",
    "\n",
    "### Combining two list - Two-dimensional arrays\n",
    "\n",
    "When we combine arrays together, we can add dimension. Combining two arrays gives us a 2D array\n",
    "This creates a matrix for us on which we can perform matrix opperations"
   ]
  },
  {
   "cell_type": "code",
   "execution_count": 31,
   "id": "7cfb2fb8-4a8c-41e4-9d9d-a45b8fa908c2",
   "metadata": {},
   "outputs": [
    {
     "data": {
      "text/plain": [
       "array([[10, 20, 30],\n",
       "       [40, 50, 60]])"
      ]
     },
     "execution_count": 31,
     "metadata": {},
     "output_type": "execute_result"
    }
   ],
   "source": [
    "# combining 2 lists\n",
    "list2 = [40,50,60]\n",
    "\n",
    "list3 = [list1,list2]\n",
    "\n",
    "arr3 = np.array(list3)\n",
    "arr3"
   ]
  },
  {
   "cell_type": "code",
   "execution_count": 32,
   "id": "69dbec9a-400b-49aa-bdf2-b6373e3ae197",
   "metadata": {},
   "outputs": [
    {
     "data": {
      "text/plain": [
       "(2, 3)"
      ]
     },
     "execution_count": 32,
     "metadata": {},
     "output_type": "execute_result"
    }
   ],
   "source": [
    "arr3.shape"
   ]
  },
  {
   "cell_type": "markdown",
   "id": "4a02bdd8-1f0b-4ba9-91fc-166930e9dd68",
   "metadata": {},
   "source": [
    "## Three-dimensional arrays"
   ]
  },
  {
   "cell_type": "code",
   "execution_count": 33,
   "id": "4d596a3b-337e-4b32-9643-91b7c0764bec",
   "metadata": {},
   "outputs": [
    {
     "data": {
      "text/plain": [
       "array([[[ 1,  2,  3],\n",
       "        [ 3,  4,  5]],\n",
       "\n",
       "       [[ 5,  6,  7],\n",
       "        [ 8,  9, 10]]])"
      ]
     },
     "execution_count": 33,
     "metadata": {},
     "output_type": "execute_result"
    }
   ],
   "source": [
    "arr3dim = np.array([[[1,2,3],[3,4,5]],[[5,6,7],[8,9,10]]])\n",
    "arr3dim"
   ]
  },
  {
   "cell_type": "code",
   "execution_count": 34,
   "id": "5a078ee2-f9f6-4b40-9c89-62d2be221078",
   "metadata": {},
   "outputs": [
    {
     "data": {
      "text/plain": [
       "(2, 2, 3)"
      ]
     },
     "execution_count": 34,
     "metadata": {},
     "output_type": "execute_result"
    }
   ],
   "source": [
    "arr3dim.shape"
   ]
  },
  {
   "cell_type": "markdown",
   "id": "b803eb46-3985-43e0-8620-345744557796",
   "metadata": {},
   "source": [
    "## Using Arrays and Scalars\n",
    "\n",
    "Numpy arrays (or ndarray) allow us to perform matrix operations."
   ]
  },
  {
   "cell_type": "code",
   "execution_count": 35,
   "id": "4c03230f-0981-4c58-b8cf-432461fbd475",
   "metadata": {},
   "outputs": [
    {
     "data": {
      "text/plain": [
       "array([[[ 3,  6,  9],\n",
       "        [ 9, 12, 15]],\n",
       "\n",
       "       [[15, 18, 21],\n",
       "        [24, 27, 30]]])"
      ]
     },
     "execution_count": 35,
     "metadata": {},
     "output_type": "execute_result"
    }
   ],
   "source": [
    "# For example, we can use simple multiplication\n",
    "\n",
    "arr3dim * 3"
   ]
  },
  {
   "cell_type": "code",
   "execution_count": 36,
   "id": "bcf8e0ab-a44b-4e59-8772-57acc806856b",
   "metadata": {},
   "outputs": [
    {
     "data": {
      "text/plain": [
       "[10, 20, 30, 10, 20, 30, 10, 20, 30]"
      ]
     },
     "execution_count": 36,
     "metadata": {},
     "output_type": "execute_result"
    }
   ],
   "source": [
    "list1 * 3"
   ]
  },
  {
   "cell_type": "markdown",
   "id": "1ae80c68-c70a-4637-8ec0-343ab94ef64d",
   "metadata": {},
   "source": [
    "### We can multiply arrays by other arrays "
   ]
  },
  {
   "cell_type": "code",
   "execution_count": 37,
   "id": "1daca07c-87e7-4a98-9e99-1e147196a873",
   "metadata": {},
   "outputs": [
    {
     "data": {
      "text/plain": [
       "array([ 400, 1000, 1800])"
      ]
     },
     "execution_count": 37,
     "metadata": {},
     "output_type": "execute_result"
    }
   ],
   "source": [
    "arr11 = np.array(list2)\n",
    "arr1 * arr11 "
   ]
  },
  {
   "cell_type": "markdown",
   "id": "e7a25cd1-94e2-4ce0-bfe5-d0f9179377fd",
   "metadata": {},
   "source": [
    "### multiplying by arrays of different shapes"
   ]
  },
  {
   "cell_type": "code",
   "execution_count": 38,
   "id": "d711a7b6-2a2e-4698-863a-571a9f917637",
   "metadata": {},
   "outputs": [
    {
     "ename": "ValueError",
     "evalue": "operands could not be broadcast together with shapes (3,) (10,) ",
     "output_type": "error",
     "traceback": [
      "\u001b[1;31m---------------------------------------------------------------------------\u001b[0m",
      "\u001b[1;31mValueError\u001b[0m                                Traceback (most recent call last)",
      "Cell \u001b[1;32mIn[38], line 1\u001b[0m\n\u001b[1;32m----> 1\u001b[0m \u001b[43marr1\u001b[49m\u001b[43m \u001b[49m\u001b[38;5;241;43m*\u001b[39;49m\u001b[43m \u001b[49m\u001b[43marr2\u001b[49m\n",
      "\u001b[1;31mValueError\u001b[0m: operands could not be broadcast together with shapes (3,) (10,) "
     ]
    }
   ],
   "source": [
    "arr1 * arr2"
   ]
  },
  {
   "cell_type": "markdown",
   "id": "032d277a-2014-4403-b61b-fe21422a812a",
   "metadata": {},
   "source": [
    "### miltiplication can be done by arrays of different dimensions but they need the same element size"
   ]
  },
  {
   "cell_type": "code",
   "execution_count": 39,
   "id": "2b2796e4-b389-4423-8c07-345e89444968",
   "metadata": {},
   "outputs": [
    {
     "data": {
      "text/plain": [
       "array([[[ 10,  40,  90],\n",
       "        [ 30,  80, 150]],\n",
       "\n",
       "       [[ 50, 120, 210],\n",
       "        [ 80, 180, 300]]])"
      ]
     },
     "execution_count": 39,
     "metadata": {},
     "output_type": "execute_result"
    }
   ],
   "source": [
    "arr1 * arr3dim"
   ]
  },
  {
   "cell_type": "markdown",
   "id": "d347df65-868a-44b9-8ba9-9503833b21bc",
   "metadata": {},
   "source": [
    "### One dimensional array with 12 elements (12,)"
   ]
  },
  {
   "cell_type": "code",
   "execution_count": 41,
   "id": "9e11af20-f3dc-447f-a61b-e076fc64bb80",
   "metadata": {},
   "outputs": [
    {
     "data": {
      "text/plain": [
       "(12,)"
      ]
     },
     "execution_count": 41,
     "metadata": {},
     "output_type": "execute_result"
    }
   ],
   "source": [
    "arr12 = np.array([1,2,3,4,5,6,7,8,9,10,11,12])\n",
    "arr12.shape"
   ]
  },
  {
   "cell_type": "markdown",
   "id": "58f0c616-3b63-40c8-bdca-f61be91d4039",
   "metadata": {},
   "source": [
    "### Two dimensional array size (3, 4)"
   ]
  },
  {
   "cell_type": "code",
   "execution_count": 47,
   "id": "4ced0dbf-1b21-4dff-b864-387dbec57111",
   "metadata": {},
   "outputs": [
    {
     "data": {
      "text/plain": [
       "(3, 4)"
      ]
     },
     "execution_count": 47,
     "metadata": {},
     "output_type": "execute_result"
    }
   ],
   "source": [
    "list1 = [1,2,3,4]\n",
    "list2 = [list1,list1,list1]\n",
    "arr3_4 = np.array(list2)\n",
    "arr3_4.shape"
   ]
  },
  {
   "cell_type": "markdown",
   "id": "2ef8b14f-6059-436c-ba4e-12797236e52f",
   "metadata": {},
   "source": [
    "### Three dimensional array size (2, 5, 4)"
   ]
  },
  {
   "cell_type": "code",
   "execution_count": 48,
   "id": "6a660039-a9c6-4aec-b458-036c13c7dc99",
   "metadata": {},
   "outputs": [
    {
     "data": {
      "text/plain": [
       "(2, 5, 4)"
      ]
     },
     "execution_count": 48,
     "metadata": {},
     "output_type": "execute_result"
    }
   ],
   "source": [
    "list1 = [1,2,3,4]\n",
    "list2 = [list1,list1,list1,list1,list1]\n",
    "list3 = [list2,list2]\n",
    "arr2_5_4 = np.array(list3)\n",
    "arr2_5_4.shape"
   ]
  },
  {
   "cell_type": "code",
   "execution_count": 49,
   "id": "f145f37b-d671-40ad-9c5f-a819114538ac",
   "metadata": {},
   "outputs": [
    {
     "data": {
      "text/plain": [
       "array([[[1, 2, 3, 4],\n",
       "        [1, 2, 3, 4],\n",
       "        [1, 2, 3, 4],\n",
       "        [1, 2, 3, 4],\n",
       "        [1, 2, 3, 4]],\n",
       "\n",
       "       [[1, 2, 3, 4],\n",
       "        [1, 2, 3, 4],\n",
       "        [1, 2, 3, 4],\n",
       "        [1, 2, 3, 4],\n",
       "        [1, 2, 3, 4]]])"
      ]
     },
     "execution_count": 49,
     "metadata": {},
     "output_type": "execute_result"
    }
   ],
   "source": [
    "arr2_5_4"
   ]
  },
  {
   "cell_type": "markdown",
   "id": "d3b6680f-1698-4e13-afed-c802c7d0b8c7",
   "metadata": {},
   "source": [
    "### Accessing the values in ndarrays"
   ]
  },
  {
   "cell_type": "code",
   "execution_count": 50,
   "id": "a5324ca6-0040-4448-aec3-473bd41d85f4",
   "metadata": {},
   "outputs": [
    {
     "data": {
      "text/plain": [
       "array([[10, 20, 30],\n",
       "       [40, 50, 60]])"
      ]
     },
     "execution_count": 50,
     "metadata": {},
     "output_type": "execute_result"
    }
   ],
   "source": [
    "arr3"
   ]
  },
  {
   "cell_type": "code",
   "execution_count": 53,
   "id": "d88d7ca2-bc2a-4ca6-8900-39ec79478a89",
   "metadata": {},
   "outputs": [
    {
     "data": {
      "text/plain": [
       "60"
      ]
     },
     "execution_count": 53,
     "metadata": {},
     "output_type": "execute_result"
    }
   ],
   "source": [
    "arr3[1][2]"
   ]
  },
  {
   "cell_type": "code",
   "execution_count": 54,
   "id": "d78a351c-6a12-47dc-a943-0295b06de0b1",
   "metadata": {},
   "outputs": [
    {
     "data": {
      "text/plain": [
       "60"
      ]
     },
     "execution_count": 54,
     "metadata": {},
     "output_type": "execute_result"
    }
   ],
   "source": [
    "arr3[1,2]"
   ]
  },
  {
   "cell_type": "code",
   "execution_count": 55,
   "id": "aaa2ecde-426a-4b84-bfad-b1477912a6d7",
   "metadata": {},
   "outputs": [
    {
     "data": {
      "text/plain": [
       "array([40, 50, 60])"
      ]
     },
     "execution_count": 55,
     "metadata": {},
     "output_type": "execute_result"
    }
   ],
   "source": [
    "arr3[1]"
   ]
  },
  {
   "cell_type": "code",
   "execution_count": 58,
   "id": "06020faf-e163-4995-9d46-9e9a3c706163",
   "metadata": {},
   "outputs": [
    {
     "data": {
      "text/plain": [
       "array([30, 60])"
      ]
     },
     "execution_count": 58,
     "metadata": {},
     "output_type": "execute_result"
    }
   ],
   "source": [
    "arr3[:,2]"
   ]
  },
  {
   "cell_type": "markdown",
   "id": "3450f6d7-3399-49d6-8ea2-cd3e7bb39328",
   "metadata": {},
   "source": [
    "## Statistical functions and arrays"
   ]
  },
  {
   "cell_type": "code",
   "execution_count": 59,
   "id": "85497808-6111-4d74-aeda-6ae723b94214",
   "metadata": {},
   "outputs": [
    {
     "data": {
      "text/plain": [
       "210"
      ]
     },
     "execution_count": 59,
     "metadata": {},
     "output_type": "execute_result"
    }
   ],
   "source": [
    "# sum of values\n",
    "arr3.sum()"
   ]
  },
  {
   "cell_type": "code",
   "execution_count": 60,
   "id": "05338de7-9c46-4f4f-8a32-ef40eaafe3e6",
   "metadata": {},
   "outputs": [
    {
     "data": {
      "text/plain": [
       "array([50, 70, 90])"
      ]
     },
     "execution_count": 60,
     "metadata": {},
     "output_type": "execute_result"
    }
   ],
   "source": [
    "# sum of all columns\n",
    "arr3.sum(0)"
   ]
  },
  {
   "cell_type": "code",
   "execution_count": 61,
   "id": "c08c71c2-be34-45fb-b15c-a73de79e0d0b",
   "metadata": {},
   "outputs": [
    {
     "data": {
      "text/plain": [
       "array([ 60, 150])"
      ]
     },
     "execution_count": 61,
     "metadata": {},
     "output_type": "execute_result"
    }
   ],
   "source": [
    "# sum of rows\n",
    "arr3.sum(1)"
   ]
  },
  {
   "cell_type": "code",
   "execution_count": 62,
   "id": "fed18dc7-ad46-484b-8c14-f039fdeea809",
   "metadata": {},
   "outputs": [
    {
     "data": {
      "text/plain": [
       "35.0"
      ]
     },
     "execution_count": 62,
     "metadata": {},
     "output_type": "execute_result"
    }
   ],
   "source": [
    "# mean\n",
    "arr3.mean()"
   ]
  },
  {
   "cell_type": "code",
   "execution_count": 66,
   "id": "fdb3d196-d8fa-4a66-b030-0f438a59a2d3",
   "metadata": {},
   "outputs": [
    {
     "data": {
      "text/plain": [
       "array([25., 35., 45.])"
      ]
     },
     "execution_count": 66,
     "metadata": {},
     "output_type": "execute_result"
    }
   ],
   "source": [
    "#mean of column\n",
    "arr3.mean(0)"
   ]
  },
  {
   "cell_type": "code",
   "execution_count": 65,
   "id": "0c208068-4c62-4381-842b-158e76e40a17",
   "metadata": {},
   "outputs": [
    {
     "data": {
      "text/plain": [
       "17.07825127659933"
      ]
     },
     "execution_count": 65,
     "metadata": {},
     "output_type": "execute_result"
    }
   ],
   "source": [
    "# standard deviation\n",
    "arr3.std()"
   ]
  },
  {
   "cell_type": "code",
   "execution_count": 67,
   "id": "fa9fb61f-edb8-447b-8893-d69773e4411b",
   "metadata": {},
   "outputs": [
    {
     "data": {
      "text/plain": [
       "291.6666666666667"
      ]
     },
     "execution_count": 67,
     "metadata": {},
     "output_type": "execute_result"
    }
   ],
   "source": [
    "# variance\n",
    "arr3.var()\n"
   ]
  },
  {
   "cell_type": "code",
   "execution_count": 68,
   "id": "4b88b47e-9615-4b7e-8ec6-416e176a5280",
   "metadata": {},
   "outputs": [
    {
     "data": {
      "text/plain": [
       "60"
      ]
     },
     "execution_count": 68,
     "metadata": {},
     "output_type": "execute_result"
    }
   ],
   "source": [
    "#max\n",
    "arr3.max()"
   ]
  },
  {
   "cell_type": "code",
   "execution_count": 69,
   "id": "7cf052c9-731a-48e6-a521-cda797a59841",
   "metadata": {},
   "outputs": [
    {
     "data": {
      "text/plain": [
       "10"
      ]
     },
     "execution_count": 69,
     "metadata": {},
     "output_type": "execute_result"
    }
   ],
   "source": [
    "#min\n",
    "arr3.min()"
   ]
  },
  {
   "cell_type": "markdown",
   "id": "7c3d19e4-75ac-4558-b272-c8476841797a",
   "metadata": {},
   "source": [
    "## Iterating through ndarrays"
   ]
  },
  {
   "cell_type": "code",
   "execution_count": 70,
   "id": "240bf15c-55b6-4825-aa82-4405a2037fdc",
   "metadata": {},
   "outputs": [
    {
     "name": "stdout",
     "output_type": "stream",
     "text": [
      "10\n",
      "20\n",
      "30\n"
     ]
    }
   ],
   "source": [
    "for x in arr1:\n",
    "    print(x)"
   ]
  },
  {
   "cell_type": "code",
   "execution_count": 73,
   "id": "71d1fe65-14e8-4f76-8f11-0c6677f8abce",
   "metadata": {},
   "outputs": [
    {
     "name": "stdout",
     "output_type": "stream",
     "text": [
      "10\n",
      "20\n",
      "30\n",
      "40\n",
      "50\n",
      "60\n"
     ]
    }
   ],
   "source": [
    "for x in arr3:\n",
    "    for y in x:\n",
    "        print(y)"
   ]
  },
  {
   "cell_type": "code",
   "execution_count": 76,
   "id": "a3de10d2-84e6-43f0-9e4b-572b977a1621",
   "metadata": {},
   "outputs": [
    {
     "name": "stdout",
     "output_type": "stream",
     "text": [
      "[1 2 3 4]\n",
      "[1 2 3 4]\n",
      "[1 2 3 4]\n",
      "[1 2 3 4]\n",
      "[1 2 3 4]\n",
      "[1 2 3 4]\n",
      "[1 2 3 4]\n",
      "[1 2 3 4]\n",
      "[1 2 3 4]\n",
      "[1 2 3 4]\n",
      "[1 2 3 4]\n",
      "[1 2 3 4]\n",
      "[1 2 3 4]\n",
      "[1 2 3 4]\n",
      "[1 2 3 4]\n",
      "[1 2 3 4]\n",
      "[1 2 3 4]\n",
      "[1 2 3 4]\n",
      "[1 2 3 4]\n",
      "[1 2 3 4]\n",
      "[1 2 3 4]\n",
      "[1 2 3 4]\n",
      "[1 2 3 4]\n",
      "[1 2 3 4]\n",
      "[1 2 3 4]\n",
      "[1 2 3 4]\n",
      "[1 2 3 4]\n",
      "[1 2 3 4]\n",
      "[1 2 3 4]\n",
      "[1 2 3 4]\n",
      "[1 2 3 4]\n",
      "[1 2 3 4]\n",
      "[1 2 3 4]\n",
      "[1 2 3 4]\n",
      "[1 2 3 4]\n",
      "[1 2 3 4]\n",
      "[1 2 3 4]\n",
      "[1 2 3 4]\n",
      "[1 2 3 4]\n",
      "[1 2 3 4]\n",
      "[1 2 3 4]\n",
      "[1 2 3 4]\n",
      "[1 2 3 4]\n",
      "[1 2 3 4]\n",
      "[1 2 3 4]\n",
      "[1 2 3 4]\n",
      "[1 2 3 4]\n",
      "[1 2 3 4]\n",
      "[1 2 3 4]\n",
      "[1 2 3 4]\n"
     ]
    }
   ],
   "source": [
    "for x in arr2_5_4:\n",
    "    for y in x:\n",
    "        for z in x:\n",
    "            print(z)"
   ]
  },
  {
   "cell_type": "code",
   "execution_count": 77,
   "id": "e14820f0-0f56-4176-a7d5-b82fea663f6f",
   "metadata": {},
   "outputs": [
    {
     "name": "stdout",
     "output_type": "stream",
     "text": [
      "10\n",
      "20\n",
      "30\n",
      "40\n",
      "50\n",
      "60\n"
     ]
    }
   ],
   "source": [
    "for x in np.nditer(arr3):\n",
    "    print(x)"
   ]
  },
  {
   "cell_type": "code",
   "execution_count": 78,
   "id": "4253e63f-493f-4836-ba44-239c3c2d1bcc",
   "metadata": {},
   "outputs": [
    {
     "name": "stdout",
     "output_type": "stream",
     "text": [
      "1\n",
      "2\n",
      "3\n",
      "4\n",
      "1\n",
      "2\n",
      "3\n",
      "4\n",
      "1\n",
      "2\n",
      "3\n",
      "4\n",
      "1\n",
      "2\n",
      "3\n",
      "4\n",
      "1\n",
      "2\n",
      "3\n",
      "4\n",
      "1\n",
      "2\n",
      "3\n",
      "4\n",
      "1\n",
      "2\n",
      "3\n",
      "4\n",
      "1\n",
      "2\n",
      "3\n",
      "4\n",
      "1\n",
      "2\n",
      "3\n",
      "4\n",
      "1\n",
      "2\n",
      "3\n",
      "4\n"
     ]
    }
   ],
   "source": [
    "for x in np.nditer(arr2_5_4):\n",
    "    print(x)"
   ]
  },
  {
   "cell_type": "markdown",
   "id": "f59e5116-fb79-4016-b4e0-f79d9b84af7e",
   "metadata": {},
   "source": [
    "## Savinmg and Loading in numpy"
   ]
  },
  {
   "cell_type": "code",
   "execution_count": 79,
   "id": "36442413-bf36-4151-bb71-d06722a3780d",
   "metadata": {},
   "outputs": [],
   "source": [
    "np.save(\"new\",arr3)"
   ]
  },
  {
   "cell_type": "code",
   "execution_count": 83,
   "id": "e9322bca-0d78-4536-9ba2-3278d3fd79f6",
   "metadata": {},
   "outputs": [
    {
     "data": {
      "text/plain": [
       "array([[10, 20, 30],\n",
       "       [40, 50, 60]])"
      ]
     },
     "execution_count": 83,
     "metadata": {},
     "output_type": "execute_result"
    }
   ],
   "source": [
    "np.load(\"new.npy\")"
   ]
  },
  {
   "cell_type": "code",
   "execution_count": 85,
   "id": "ff1eb16a-36de-4d1e-a7cb-491372b2b949",
   "metadata": {},
   "outputs": [],
   "source": [
    "np.savetxt(\"new.txt\",arr3, delimiter= \",\")"
   ]
  },
  {
   "cell_type": "code",
   "execution_count": 86,
   "id": "f784c200-9460-437f-b897-6d148d212b42",
   "metadata": {},
   "outputs": [
    {
     "data": {
      "text/plain": [
       "array([[10., 20., 30.],\n",
       "       [40., 50., 60.]])"
      ]
     },
     "execution_count": 86,
     "metadata": {},
     "output_type": "execute_result"
    }
   ],
   "source": [
    "np.loadtxt(\"new.txt\",delimiter = \",\")"
   ]
  },
  {
   "cell_type": "code",
   "execution_count": null,
   "id": "09bc195f-c99d-4907-b574-69499d9fc919",
   "metadata": {},
   "outputs": [],
   "source": []
  }
 ],
 "metadata": {
  "kernelspec": {
   "display_name": "Python 3 (ipykernel)",
   "language": "python",
   "name": "python3"
  },
  "language_info": {
   "codemirror_mode": {
    "name": "ipython",
    "version": 3
   },
   "file_extension": ".py",
   "mimetype": "text/x-python",
   "name": "python",
   "nbconvert_exporter": "python",
   "pygments_lexer": "ipython3",
   "version": "3.10.6"
  }
 },
 "nbformat": 4,
 "nbformat_minor": 5
}
